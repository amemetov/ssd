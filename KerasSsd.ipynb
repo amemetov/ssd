{
 "cells": [
  {
   "cell_type": "code",
   "execution_count": 1,
   "metadata": {},
   "outputs": [
    {
     "name": "stderr",
     "output_type": "stream",
     "text": [
      "Using TensorFlow backend.\n"
     ]
    }
   ],
   "source": [
    "import numpy as np\n",
    "import cv2\n",
    "import pickle\n",
    "\n",
    "import matplotlib.pyplot as plt\n",
    "%matplotlib inline\n",
    "\n",
    "from sklearn.utils import shuffle\n",
    "from sklearn.model_selection import train_test_split\n",
    "\n",
    "#\n",
    "from keras.optimizers import Adam\n",
    "from keras.callbacks import EarlyStopping, ModelCheckpoint, TensorBoard\n",
    "\n",
    "###\n",
    "import prior_box as pb\n",
    "import tools\n",
    "from generator import Generator\n",
    "from data_augmenter import DataAugmenter\n",
    "from bbox_codec import BBoxCodec\n",
    "\n",
    "import keras_impl.ssd_pascal as ssd\n",
    "from keras_impl.losses import SsdLoss\n",
    "\n",
    "\n",
    "\n",
    "# for auto-reloading external modules\n",
    "# see http://stackoverflow.com/questions/1907993/autoreload-of-modules-in-ipython\n",
    "%load_ext autoreload\n",
    "%autoreload 2"
   ]
  },
  {
   "cell_type": "code",
   "execution_count": 2,
   "metadata": {},
   "outputs": [],
   "source": [
    "#\n",
    "img_dir = '../datasets/voc2012/VOCtrainval_11-May-2012/JPEGImages/'\n",
    "target_img_w, target_img_h = 300, 300\n",
    "num_classes = 21\n",
    "\n",
    "lr = 1e-3\n",
    "batch_size=1\n",
    "nb_epoch = 10"
   ]
  },
  {
   "cell_type": "code",
   "execution_count": 3,
   "metadata": {},
   "outputs": [],
   "source": [
    "model = ssd.SSD300(use_bn=False)"
   ]
  },
  {
   "cell_type": "code",
   "execution_count": 4,
   "metadata": {},
   "outputs": [],
   "source": [
    "#model.summary()\n",
    "model.compile(optimizer=Adam(lr=lr), loss=SsdLoss(num_classes=num_classes).loss)\n",
    "#model.compile(optimizer=Adam(lr=lr), loss='mse')"
   ]
  },
  {
   "cell_type": "code",
   "execution_count": 5,
   "metadata": {},
   "outputs": [
    {
     "name": "stdout",
     "output_type": "stream",
     "text": [
      "Train size: 15282\n",
      "Valid size: 1698\n"
     ]
    }
   ],
   "source": [
    "# Load prepared GroundTruth boxes\n",
    "#gtb = pickle.load(open('data/pascal_voc_2012.p', 'rb'))\n",
    "gtb = pickle.load(open('data/pascal_voc_2012-with-background.p', 'rb'))\n",
    "\n",
    "img_file_names = shuffle(list(gtb.keys()))\n",
    "train_samples, valid_samples = train_test_split(img_file_names, test_size=0.1)\n",
    "\n",
    "print('Train size: {0}'.format(len(train_samples)))\n",
    "print('Valid size: {0}'.format(len(valid_samples)))\n",
    "# test_img_file = '2007_000032.jpg'\n",
    "# print(gtb[test_img_file].shape)\n",
    "# print(gtb[test_img_file][0])"
   ]
  },
  {
   "cell_type": "code",
   "execution_count": 6,
   "metadata": {},
   "outputs": [],
   "source": [
    "# Prepare Generator\n",
    "layers_config = ssd.layers_config\n",
    "prior_boxes = pb.create_prior_boxes_vect(target_img_w, target_img_h, layers_config, pb.default_prior_variance)\n",
    "bbox_codec = BBoxCodec(prior_boxes, num_classes)\n",
    "augmenter = DataAugmenter(target_image_size=(target_img_w, target_img_h))\n",
    "gen = Generator(gtb, img_dir, augmenter, bbox_codec)"
   ]
  },
  {
   "cell_type": "code",
   "execution_count": 9,
   "metadata": {},
   "outputs": [
    {
     "name": "stdout",
     "output_type": "stream",
     "text": [
      "nb_steps_per_epoch: 2\n",
      "Epoch 1/10\n",
      "1/2 [==============>...............] - ETA: 3s - loss: 46.8520Epoch 00000: val_loss improved from inf to 86.55375, saving model to models/model.h5\n",
      "2/2 [==============================] - 284s - loss: 43.2932 - val_loss: 86.5538\n",
      "Epoch 2/10\n",
      "1/2 [==============>...............] - ETA: 3s - loss: 100.7858Epoch 00001: val_loss improved from 86.55375 to 41.77384, saving model to models/model.h5\n",
      "2/2 [==============================] - 287s - loss: 70.7821 - val_loss: 41.7738\n",
      "Epoch 3/10\n",
      "1/2 [==============>...............] - ETA: 3s - loss: 41.5065Epoch 00002: val_loss did not improve\n",
      "2/2 [==============================] - 282s - loss: 41.5927 - val_loss: 42.2579\n",
      "Epoch 4/10\n",
      "1/2 [==============>...............] - ETA: 3s - loss: 42.1736Epoch 00003: val_loss did not improve\n",
      "2/2 [==============================] - 282s - loss: 42.5006 - val_loss: 43.9562\n",
      "Epoch 5/10\n",
      "1/2 [==============>...............] - ETA: 3s - loss: 42.8676Epoch 00004: val_loss did not improve\n",
      "2/2 [==============================] - 282s - loss: 42.9095 - val_loss: 46.4847\n",
      "Epoch 6/10\n",
      "1/2 [==============>...............] - ETA: 3s - loss: 44.3830Epoch 00005: val_loss improved from 41.77384 to 41.57414, saving model to models/model.h5\n",
      "2/2 [==============================] - 283s - loss: 42.6629 - val_loss: 41.5741\n",
      "Epoch 7/10\n",
      "1/2 [==============>...............] - ETA: 3s - loss: 41.0249Epoch 00006: val_loss improved from 41.57414 to 40.81717, saving model to models/model.h5\n",
      "2/2 [==============================] - 283s - loss: 41.5321 - val_loss: 40.8172\n",
      "Epoch 8/10\n",
      "1/2 [==============>...............] - ETA: 3s - loss: 41.1767Epoch 00007: val_loss improved from 40.81717 to 39.36487, saving model to models/model.h5\n",
      "2/2 [==============================] - 283s - loss: 41.2297 - val_loss: 39.3649\n",
      "Epoch 9/10\n",
      "1/2 [==============>...............] - ETA: 3s - loss: 39.2829Epoch 00008: val_loss did not improve\n",
      "2/2 [==============================] - 282s - loss: 38.6621 - val_loss: 42.0528\n",
      "Epoch 10/10\n",
      "1/2 [==============>...............] - ETA: 3s - loss: 41.8062Epoch 00009: val_loss did not improve\n",
      "2/2 [==============================] - 282s - loss: 42.3346 - val_loss: 42.3909\n"
     ]
    }
   ],
   "source": [
    "batch_size=8\n",
    "# compile and train the model using the generator function\n",
    "train_generator = gen.flow(train_samples, batch_size=batch_size)\n",
    "valid_generator = gen.flow(valid_samples, batch_size=batch_size)\n",
    "\n",
    "model_save_path='models/model.h5'\n",
    "checkpoint = ModelCheckpoint(model_save_path, monitor='val_loss', verbose=1, save_best_only=True,\n",
    "                             save_weights_only=False, mode='auto')\n",
    "early_stopping = EarlyStopping(monitor='val_loss', patience=3, verbose=1, mode='auto')\n",
    "# tensor_board = TensorBoard(log_dir='./tb-logs', histogram_freq=1, write_graph=True, write_images=True)\n",
    "\n",
    "nb_samples_per_epoch = len(train_samples)\n",
    "nb_valid_samples = len(valid_samples)\n",
    "\n",
    "nb_steps_per_epoch = int(nb_samples_per_epoch/batch_size)\n",
    "nb_valid_steps_per_epoch = int(nb_valid_samples/batch_size)\n",
    "\n",
    "print('nb_steps_per_epoch: {0}'.format(nb_steps_per_epoch))\n",
    "\n",
    "history = model.fit_generator(train_generator, steps_per_epoch=nb_steps_per_epoch, #samples_per_epoch=nb_samples_per_epoch,\n",
    "                              validation_data=valid_generator, validation_steps=nb_valid_steps_per_epoch, #nb_val_samples=nb_valid_samples,\n",
    "                              callbacks=[checkpoint, early_stopping],  # , tensor_board],\n",
    "                              epochs=nb_epoch,\n",
    "                              )\n",
    "\n",
    "\n",
    "tools.plot_history_curve(history, \"./loss-curve.png\")\n"
   ]
  },
  {
   "cell_type": "code",
   "execution_count": null,
   "metadata": {},
   "outputs": [],
   "source": []
  },
  {
   "cell_type": "code",
   "execution_count": null,
   "metadata": {},
   "outputs": [],
   "source": []
  },
  {
   "cell_type": "code",
   "execution_count": null,
   "metadata": {},
   "outputs": [
    {
     "name": "stdout",
     "output_type": "stream",
     "text": [
      "Getting next batch...\n"
     ]
    }
   ],
   "source": [
    "x_batch, y_batch = next(gen.flow(img_file_names, batch_size=32))\n",
    "y_pred = model.predict(x_batch)\n",
    "print('y_pred:{0}'.format(y_pred.shape))"
   ]
  },
  {
   "cell_type": "code",
   "execution_count": null,
   "metadata": {},
   "outputs": [],
   "source": []
  },
  {
   "cell_type": "code",
   "execution_count": 11,
   "metadata": {},
   "outputs": [
    {
     "name": "stdout",
     "output_type": "stream",
     "text": [
      "444.816\n"
     ]
    }
   ],
   "source": [
    "import keras.backend as K\n",
    "import keras.losses as losses\n",
    "import tensorflow as tf\n",
    "\n",
    "y_true_keras = K.variable(y_batch)\n",
    "y_pred_keras = K.variable(y_pred)\n",
    "\n",
    "loss = SsdLoss(num_classes=num_classes)\n",
    "loss_val = loss.loss(y_true_keras, y_pred_keras)\n",
    "\n",
    "y_true_classes = y_true_keras[:, :, 4:4 + num_classes]\n",
    "y_pred_classes = y_pred_keras[:, :, 4:4 + num_classes]\n",
    "crossentropy = losses.categorical_crossentropy(y_true_classes, y_pred_classes)\n",
    "\n",
    "init = tf.global_variables_initializer()\n",
    "with tf.Session() as sess:\n",
    "    init.run()\n",
    "    result = loss_val.eval()\n",
    "    #crossentropy_result = crossentropy.eval()\n",
    "    #true_classes  = y_true_classes.eval()\n",
    "    #pred_classes  = y_pred_classes.eval()\n",
    "    \n",
    "print(result)"
   ]
  },
  {
   "cell_type": "code",
   "execution_count": null,
   "metadata": {},
   "outputs": [],
   "source": []
  },
  {
   "cell_type": "code",
   "execution_count": null,
   "metadata": {},
   "outputs": [],
   "source": []
  },
  {
   "cell_type": "code",
   "execution_count": null,
   "metadata": {},
   "outputs": [],
   "source": []
  }
 ],
 "metadata": {
  "kernelspec": {
   "display_name": "Python 3",
   "language": "python",
   "name": "python3"
  },
  "language_info": {
   "codemirror_mode": {
    "name": "ipython",
    "version": 3
   },
   "file_extension": ".py",
   "mimetype": "text/x-python",
   "name": "python",
   "nbconvert_exporter": "python",
   "pygments_lexer": "ipython3",
   "version": "3.6.2"
  }
 },
 "nbformat": 4,
 "nbformat_minor": 1
}
